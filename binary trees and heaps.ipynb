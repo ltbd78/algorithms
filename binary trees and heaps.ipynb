{
 "cells": [
  {
   "cell_type": "markdown",
   "id": "73f28bd5-0776-4876-971c-1bb7d81f16a6",
   "metadata": {},
   "source": [
    "# Binary Tree and Heaps"
   ]
  },
  {
   "cell_type": "markdown",
   "id": "c61c56d9-2351-45f1-9ce3-06f698d05669",
   "metadata": {},
   "source": [
    "1) must have heap property\n",
    "2) must be compete binary tree"
   ]
  },
  {
   "cell_type": "markdown",
   "id": "d63fcb37-cde5-46ea-972e-f1aff2011d50",
   "metadata": {},
   "source": [
    "We can represent binary trees using either an array or linked list. Whether it is better to represent a binary tree as an array or as a linked list depends on the specific requirements and operations you need to perform on the tree. Each representation has its advantages and disadvantages, and the choice should be made based on the trade-offs that best suit your use case.\n",
    "\n",
    "Here are some considerations for each representation:\n",
    "\n",
    "1. Array Representation:\n",
    "   - Pros:\n",
    "     - Easy random access to nodes, which allows for efficient indexing.\n",
    "     - Memory-efficient if the tree is complete (all levels except possibly the last are completely filled).\n",
    "   - Cons:\n",
    "     - Wasteful memory usage for sparse trees, especially if the tree is unbalanced.\n",
    "     - Insertion and deletion operations can be complex and require resizing the array if it's dynamic.\n",
    "\n",
    "   Array representation is suitable for applications where you need fast access to nodes based on their indices (e.g., binary heaps, segment trees) and don't perform frequent insertions or deletions.\n",
    "\n",
    "2. Linked List Representation:\n",
    "   - Pros:\n",
    "     - Efficient memory usage, especially for sparse or unbalanced trees.\n",
    "     - Simpler to implement insertions and deletions as you don't need to worry about resizing an array.\n",
    "   - Cons:\n",
    "     - Slower random access, as you have to traverse the list from the root to reach a specific node.\n",
    "     - Typically requires more memory per node due to the overhead of pointers/references.\n",
    "\n",
    "   Linked list representation is suitable for applications where you don't require frequent random access but do perform many insertions and deletions (e.g., building, modifying, and traversing general binary trees).\n",
    "\n",
    "In some cases, you might encounter hybrid representations that combine the advantages of both arrays and linked lists. For example, you can use an array representation for a complete binary tree and a linked list representation for a sparse or unbalanced binary tree.\n",
    "\n",
    "Ultimately, the choice depends on your specific use case and the operations you need to perform on the tree. Consider the trade-offs in terms of memory usage, access patterns, and the types of operations you'll be performing when deciding which representation is better for your binary tree.er node due to the overhead of pointers/references.letions."
   ]
  },
  {
   "cell_type": "markdown",
   "id": "66e0ea8e-90c7-49c6-9df2-36431e8aec6c",
   "metadata": {},
   "source": [
    "For heaps, the array representation is recommended, and it's the most common choice for several reasons:\r\n",
    "\r\n",
    "1. Efficient Random Access: Heaps often require fast access to the maximum (for a max-heap) or minimum (for a min-heap) element. With an array representation, you can access the root (maximum or minimum) element in constant time (O(1)) because it's always at the top of the heap. This efficient random access is crucial for heap operations like extract-max (or extract-min) and peeking at the maximum (or minimum) element.\r\n",
    "\r\n",
    "2. Compact Memory Usage: If you use an array representation for a binary heap, you can achieve a very compact memory usage, especially for complete binary trees. This is because there is no need for pointers or references between nodes, which can save memory compared to a linked list representation.\r\n",
    "\r\n",
    "3. Simplicity: Array-based heaps are conceptually simpler to implement and reason about. Insertions and deletions (heapify operations) are well-defined and usually involve swapping elements within the array, making the implementation more straightforward.\r\n",
    "\r\n",
    "4. Cache Efficiency: Array-based heaps often exhibit better cache locality, which can lead to faster execution times in practice. This is because adjacent elements in an array are stored in contiguous memory locations, improving memory access patterns.\r\n",
    "\r\n",
    "While the array representation is the preferred choice for heaps in most cases, it's worth noting that you should choose the representation that best fits your specific use case. If you need to frequently insert and delete elements from the heap and don't have a fixed size, you might consider dynamic resizing of the array or use other data structures like a dynamic array (e.g., Python's `list`) that can efficiently handle insertions and deletions. However, even with dynamic resizing, the core of the heap data structure is often implemented using an array to maintain efficient access to the maximum or minimum element."
   ]
  },
  {
   "cell_type": "raw",
   "id": "030a1746-8321-422b-adcd-9bade032e08b",
   "metadata": {},
   "source": [
    "Given two indexing schemes:\n",
    "1 2 3 4 5 6 7\n",
    "0 1 2 3 4 5 6\n",
    "A B C D E F G\n",
    "\n",
    "   A\n",
    " B   C\n",
    "D E F G\n",
    "\n",
    "We can derive the formula to access a node's left and right child.\n",
    "\n",
    "Given the index-0 scheme:\n",
    "left(0) = 1\n",
    "left(1) = 3\n",
    "left(2) = 5\n",
    "left(i) = 2 * i + 1\n",
    "right(0) = 2\n",
    "right(1) = 4\n",
    "right(2) = 6\n",
    "right(i) = 2 * i + 2\n",
    "parent(6) = 2\n",
    "parent(5) = 2\n",
    "parent(4) = 1\n",
    "parent(3) = 1\n",
    "parent(2) = 0\n",
    "parent(1) = 0\n",
    "parent(i) = floor(i - 1 / 2)\n",
    "\n",
    "Given the index-1 scheme:\n",
    "left(1) = 2\n",
    "left(2) = 4\n",
    "left(3) = 6\n",
    "left(i) = 2 * i\n",
    "right(1) = 3\n",
    "right(2) = 5\n",
    "right(3) = 7\n",
    "right(i) = 2 * i + 1\n",
    "parent(7) = 3\n",
    "parent(6) = 3\n",
    "parent(5) = 2\n",
    "parent(4) = 2\n",
    "parent(3) = 1\n",
    "parent(2) = 1\n",
    "parent(i) = floor(i / 2)"
   ]
  },
  {
   "cell_type": "code",
   "execution_count": 1,
   "id": "27c57a96-f0fb-494d-b20d-94c278abfab9",
   "metadata": {},
   "outputs": [
    {
     "data": {
      "text/plain": [
       "False"
      ]
     },
     "execution_count": 1,
     "metadata": {},
     "output_type": "execute_result"
    }
   ],
   "source": [
    "all([i != None for i in [\"A\", \"B\", \"C\", \"D\", None, \"F\", \"G\"]])"
   ]
  },
  {
   "cell_type": "code",
   "execution_count": 2,
   "id": "423d843c-0b60-426e-9acc-5f723e44a728",
   "metadata": {},
   "outputs": [],
   "source": [
    "# array representation for binary tree\n",
    "import math\n",
    "\n",
    "class CompleteBinaryTree:\n",
    "    def __init__(self, elements):\n",
    "        self.elements = elements\n",
    "        assert all([i != None for i in self.elements])\n",
    "    def __len__(self):\n",
    "        return len(self.elements)\n",
    "    def left(self, i):\n",
    "        return 2 * i + 1\n",
    "    def right(self, i):\n",
    "        return 2 * i + 2\n",
    "    def parent(self, i):\n",
    "        return math.floor((i - 1) / 2)\n",
    "    \n",
    "    @property\n",
    "    def height(self):\n",
    "        \"\"\"\n",
    "        math.ceil(math.log(n_nodes + 1, 2) - 1))\n",
    "        also works here for n_nodes > 0\n",
    "        can prove using induction\n",
    "        \"\"\"\n",
    "        n_nodes = len(self.elements)\n",
    "        return math.floor(math.log(n_nodes , 2))\n",
    "\n",
    "    def visualize(self):\n",
    "        spaces_initial = 2**(self.height) - 1\n",
    "        spaces_between = 2**(self.height + 1) - 1\n",
    "        buffer = [str(i) for i in self.elements]\n",
    "        max_len = max([len(i) for i in buffer])\n",
    "        buffer = [\" \" * (max_len - len(i)) + i for i in buffer]\n",
    "        pops = 0\n",
    "        while buffer:\n",
    "            array = list()\n",
    "            for i in range(2**pops):\n",
    "                try:\n",
    "                    item = buffer.pop(0)\n",
    "                except:\n",
    "                    item = \" \"\n",
    "                array.append(item)\n",
    "            strr = \" \" * spaces_initial + (\" \" * spaces_between).join(array)\n",
    "            print(strr)\n",
    "            spaces_between = spaces_initial\n",
    "            spaces_initial = spaces_initial // 2\n",
    "            pops += 1\n",
    "\n",
    "cbt = CompleteBinaryTree([\"A\", \"B\", \"C\", \"D\", \"E\", \"F\", \"G\", \"H\", \"I\", \"J\", \"K\", \"L\", \"M\"])\n",
    "cbt2 = CompleteBinaryTree([1, 2, 3, 4, 5, 6, 7, 8, 9])"
   ]
  },
  {
   "cell_type": "raw",
   "id": "268df683-a597-48a5-938f-6d3b66c2631e",
   "metadata": {},
   "source": [
    "       A\n",
    "   B       C\n",
    " D   E   F   G\n",
    "H I J K L M O P\n",
    "\n",
    "spaces_initial, spaces_between\n",
    "7, 15\n",
    "3, 7\n",
    "1, 3\n",
    "0, 1"
   ]
  },
  {
   "cell_type": "code",
   "execution_count": 3,
   "id": "7b8d8ca2-df0c-4d49-860e-71b2227eb427",
   "metadata": {},
   "outputs": [
    {
     "name": "stdout",
     "output_type": "stream",
     "text": [
      "       A\n",
      "   B       C\n",
      " D   E   F   G\n",
      "H I J K L M    \n"
     ]
    }
   ],
   "source": [
    "cbt.visualize()"
   ]
  },
  {
   "cell_type": "code",
   "execution_count": 4,
   "id": "5a676add-20bb-4022-b94b-d8ae98f759e7",
   "metadata": {},
   "outputs": [
    {
     "name": "stdout",
     "output_type": "stream",
     "text": [
      "       1\n",
      "   2       3\n",
      " 4   5   6   7\n",
      "8 9            \n"
     ]
    }
   ],
   "source": [
    "cbt2.visualize()"
   ]
  },
  {
   "cell_type": "code",
   "execution_count": 5,
   "id": "ef18c305-d215-4a75-8a16-059e1df5b0d8",
   "metadata": {},
   "outputs": [
    {
     "data": {
      "text/plain": [
       "13"
      ]
     },
     "execution_count": 5,
     "metadata": {},
     "output_type": "execute_result"
    }
   ],
   "source": [
    "len(cbt)"
   ]
  },
  {
   "cell_type": "code",
   "execution_count": 6,
   "id": "d2681138-4e72-42f2-8235-634650b20a36",
   "metadata": {},
   "outputs": [
    {
     "data": {
      "text/plain": [
       "3"
      ]
     },
     "execution_count": 6,
     "metadata": {},
     "output_type": "execute_result"
    }
   ],
   "source": [
    "cbt.height"
   ]
  },
  {
   "cell_type": "markdown",
   "id": "9f9b948a-f67a-4b55-ab17-4ce5ff87e035",
   "metadata": {},
   "source": [
    "Given a height you can calculate the maximum number of nodes with:\n",
    "\n",
    "2**(height + 1) - 1"
   ]
  },
  {
   "cell_type": "code",
   "execution_count": 7,
   "id": "cdd584cc-e21d-4a21-8f0f-013110ab4b4b",
   "metadata": {},
   "outputs": [
    {
     "data": {
      "text/plain": [
       "False"
      ]
     },
     "execution_count": 7,
     "metadata": {},
     "output_type": "execute_result"
    }
   ],
   "source": [
    "2**(cbt.height + 1) - 1 == len(cbt)"
   ]
  },
  {
   "cell_type": "code",
   "execution_count": 8,
   "id": "f46c79d8-a580-4870-800f-b112cd34913e",
   "metadata": {},
   "outputs": [
    {
     "name": "stdout",
     "output_type": "stream",
     "text": [
      "1\n",
      "2\n",
      "3\n",
      "4\n",
      "5\n",
      "6\n"
     ]
    }
   ],
   "source": [
    "print(cbt.left(0))\n",
    "print(cbt.right(0))\n",
    "print(cbt.left(1))\n",
    "print(cbt.right(1))\n",
    "print(cbt.left(2))\n",
    "print(cbt.right(2))"
   ]
  },
  {
   "cell_type": "code",
   "execution_count": 9,
   "id": "49ff7af8-ac97-480c-8cd9-b2f5213d2de9",
   "metadata": {},
   "outputs": [
    {
     "name": "stdout",
     "output_type": "stream",
     "text": [
      "2\n",
      "2\n",
      "1\n",
      "1\n",
      "0\n",
      "0\n"
     ]
    }
   ],
   "source": [
    "print(cbt.parent(6))\n",
    "print(cbt.parent(5))\n",
    "print(cbt.parent(4))\n",
    "print(cbt.parent(3))\n",
    "print(cbt.parent(2))\n",
    "print(cbt.parent(1))"
   ]
  },
  {
   "cell_type": "code",
   "execution_count": 10,
   "id": "d0970c09-7985-4d1b-8e68-5d9cf615da0d",
   "metadata": {},
   "outputs": [],
   "source": [
    "class Heap(CompleteBinaryTree):\n",
    "    def __init__(self, elements, type):\n",
    "        self.type = type\n",
    "        super().__init__(elements)\n",
    "        assert all([isinstance(i, (int, float, complex)) for i in self.elements])\n",
    "        self.initialize_heap()\n",
    "\n",
    "    def initialize_heap(self):\n",
    "        \"\"\"\n",
    "        There are n insertion operations thus,\n",
    "        O(n) = n * log(n)\n",
    "        \"\"\"\n",
    "        temp = self.elements.copy()\n",
    "        self.elements = []\n",
    "        for e in temp:\n",
    "            self.insert(e)\n",
    "\n",
    "    def heapify(self):\n",
    "        pass\n",
    "\n",
    "    def insert(self, element, visualize=False):\n",
    "        \"\"\"\n",
    "        O(n) = log(n) due to height of tree\n",
    "        \"\"\"\n",
    "        self.elements.append(element)\n",
    "        i_curr = len(self) - 1\n",
    "        i_parent = self.parent(i_curr)\n",
    "        if visualize:\n",
    "            self.visualize()\n",
    "            print()\n",
    "\n",
    "        while ((self.type == \"max\" and self.elements[i_curr] > self.elements[i_parent]) or (self.type == \"min\" and self.elements[i_curr] < self.elements[i_parent])) and i_parent >= 0:\n",
    "            self.elements[i_curr], self.elements[i_parent] = self.elements[i_parent], self.elements[i_curr]\n",
    "            if visualize:\n",
    "                self.visualize()\n",
    "                print()\n",
    "            i_curr = i_parent\n",
    "            i_parent = self.parent(i_curr)\n",
    "\n",
    "    def delete(self, visualize=False):\n",
    "        \"\"\"\n",
    "        O(n) = log(n) due to height of tree\n",
    "        \"\"\"\n",
    "        if len(self) == 1:\n",
    "            return self.elements.pop()\n",
    "\n",
    "        deleted = self.elements[0]\n",
    "        self.elements[0] = self.elements.pop(-1)\n",
    "        i_curr = 0\n",
    "        i_left, i_right = self.left(i_curr), self.right(i_curr)\n",
    "        if visualize:\n",
    "            self.visualize()\n",
    "            print()\n",
    "        \n",
    "        while i_left < len(self) and i_right < len(self):\n",
    "            left = self.elements[i_curr] < self.elements[i_left]\n",
    "            right = self.elements[i_curr] < self.elements[i_right]\n",
    "            if (left and self.type == \"max\") or (not left and self.type == \"min\"):\n",
    "                self.elements[i_curr], self.elements[i_left] = self.elements[i_left], self.elements[i_curr]\n",
    "                i_curr = i_left\n",
    "                i_left, i_right = self.left(i_curr), self.right(i_curr)\n",
    "            elif (right and self.type == \"max\") or (not right and self.type == \"min\"):\n",
    "                self.elements[i_curr], self.elements[i_right] = self.elements[i_right], self.elements[i_curr]\n",
    "                i_curr = i_right\n",
    "                i_left, i_right = self.left(i_curr), self.right(i_curr)\n",
    "            else:\n",
    "                break\n",
    "            if visualize:\n",
    "                self.visualize()\n",
    "                print()\n",
    "\n",
    "        return deleted\n",
    "            \n",
    "    def heapsort(self):\n",
    "        \"\"\"\n",
    "        There are n deletion operations thus,\n",
    "        O(n) = n * log(n)\n",
    "        \"\"\"\n",
    "        sorted = []\n",
    "        n = len(self)\n",
    "        for i in range(n):\n",
    "            sorted.append(self.delete())\n",
    "        return sorted\n",
    "    \n",
    "maxheap = Heap([50, 30, 20, 15, 10, 8, 16], \"max\")\n",
    "minheap = Heap([50, 30, 20, 15, 10, 8, 16], \"min\")"
   ]
  },
  {
   "cell_type": "code",
   "execution_count": 11,
   "id": "494a26fa-ca2f-4792-90a6-10b005012abe",
   "metadata": {},
   "outputs": [
    {
     "name": "stdout",
     "output_type": "stream",
     "text": [
      "   50\n",
      " 30   20\n",
      "15 10  8 16\n"
     ]
    }
   ],
   "source": [
    "maxheap.visualize()"
   ]
  },
  {
   "cell_type": "code",
   "execution_count": 12,
   "id": "2c6a18b7-6a8e-4de8-9065-2397afe9ad38",
   "metadata": {},
   "outputs": [
    {
     "name": "stdout",
     "output_type": "stream",
     "text": [
      "   16\n",
      " 30   20\n",
      "15 10  8  \n",
      "\n",
      "   30\n",
      " 16   20\n",
      "15 10  8  \n",
      "\n"
     ]
    },
    {
     "data": {
      "text/plain": [
       "50"
      ]
     },
     "execution_count": 12,
     "metadata": {},
     "output_type": "execute_result"
    }
   ],
   "source": [
    "maxheap.delete(visualize=True)"
   ]
  },
  {
   "cell_type": "code",
   "execution_count": 13,
   "id": "3beccfa5-a60d-4ecc-8588-c2972c894bee",
   "metadata": {},
   "outputs": [
    {
     "name": "stdout",
     "output_type": "stream",
     "text": [
      "   30\n",
      " 16   20\n",
      "15 10  8 21\n",
      "\n",
      "   30\n",
      " 16   21\n",
      "15 10  8 20\n",
      "\n"
     ]
    }
   ],
   "source": [
    "maxheap.insert(21, visualize=True)"
   ]
  },
  {
   "cell_type": "code",
   "execution_count": 14,
   "id": "735c55e2-272c-41d1-881e-d24cc19df0c1",
   "metadata": {},
   "outputs": [
    {
     "data": {
      "text/plain": [
       "[30, 21, 16, 15, 10, 20, 8]"
      ]
     },
     "execution_count": 14,
     "metadata": {},
     "output_type": "execute_result"
    }
   ],
   "source": [
    "maxheap.heapsort()"
   ]
  },
  {
   "cell_type": "code",
   "execution_count": 15,
   "id": "8266d6e1-817e-4e28-b03c-cd7022817b20",
   "metadata": {},
   "outputs": [
    {
     "name": "stdout",
     "output_type": "stream",
     "text": [
      "   16\n",
      " 15   10\n",
      "50 20 30  \n",
      "\n",
      "   15\n",
      " 16   10\n",
      "50 20 30  \n",
      "\n"
     ]
    },
    {
     "data": {
      "text/plain": [
       "8"
      ]
     },
     "execution_count": 15,
     "metadata": {},
     "output_type": "execute_result"
    }
   ],
   "source": [
    "minheap.delete(visualize=True)"
   ]
  },
  {
   "cell_type": "code",
   "execution_count": 16,
   "id": "ca13bf36-0642-47e3-a13f-24aff9d36001",
   "metadata": {},
   "outputs": [
    {
     "name": "stdout",
     "output_type": "stream",
     "text": [
      "   15\n",
      " 16   10\n",
      "50 20 30 11\n",
      "\n"
     ]
    }
   ],
   "source": [
    "minheap.insert(11, visualize=True)"
   ]
  },
  {
   "cell_type": "code",
   "execution_count": 17,
   "id": "14dff5dc-0f0c-45ba-bb57-10695664874b",
   "metadata": {},
   "outputs": [
    {
     "data": {
      "text/plain": [
       "[15, 10, 16, 20, 30, 11, 50]"
      ]
     },
     "execution_count": 17,
     "metadata": {},
     "output_type": "execute_result"
    }
   ],
   "source": [
    "minheap.heapsort()"
   ]
  }
 ],
 "metadata": {
  "kernelspec": {
   "display_name": "Python 3 (ipykernel)",
   "language": "python",
   "name": "python3"
  },
  "language_info": {
   "codemirror_mode": {
    "name": "ipython",
    "version": 3
   },
   "file_extension": ".py",
   "mimetype": "text/x-python",
   "name": "python",
   "nbconvert_exporter": "python",
   "pygments_lexer": "ipython3",
   "version": "3.11.4"
  }
 },
 "nbformat": 4,
 "nbformat_minor": 5
}
