{
 "cells": [
  {
   "cell_type": "code",
   "execution_count": null,
   "id": "ba83aa27-a262-48c4-a981-e92a0bcaf631",
   "metadata": {},
   "outputs": [],
   "source": [
    "# time complexity\n",
    "# loss function\n",
    "# bias / variance\n",
    "# discriminative or generative"
   ]
  },
  {
   "cell_type": "code",
   "execution_count": null,
   "id": "c2fba213-c6e9-498f-b476-a24785b88caf",
   "metadata": {},
   "outputs": [],
   "source": [
    "import sklearn\n",
    "from sklearn import datasets"
   ]
  },
  {
   "cell_type": "code",
   "execution_count": null,
   "id": "efc28f74-6a7d-4c91-b32e-f22797aceaf3",
   "metadata": {},
   "outputs": [],
   "source": [
    "# https://scikit-learn.org/stable/tutorial/machine_learning_map/index.html"
   ]
  },
  {
   "cell_type": "markdown",
   "id": "a4e5cbe4-7b28-4e56-a0d0-fc4e95e61fe7",
   "metadata": {},
   "source": [
    "# Classification"
   ]
  },
  {
   "cell_type": "code",
   "execution_count": null,
   "id": "82e4daf0-5770-4d64-824f-d9ec96d414a9",
   "metadata": {},
   "outputs": [],
   "source": [
    "iris = datasets.load_iris()"
   ]
  },
  {
   "cell_type": "markdown",
   "id": "829819b8-7f1a-4e2e-a057-bf8237ea4a77",
   "metadata": {},
   "source": [
    "### [SGDClassifier](https://scikit-learn.org/stable/modules/generated/sklearn.linear_model.SGDClassifier.html)\n",
    "\n",
    "- todo\n",
    "- loss\n",
    "    - hinge -> soft margin linear SVC\n",
    "    - log-loss -> logistic regression\n",
    "    - perceptron -> perceptron\n",
    "    - modified huber -> smoothed hinge loss "
   ]
  },
  {
   "cell_type": "markdown",
   "id": "27b06007-8996-42aa-b81c-ed925e03e3d5",
   "metadata": {},
   "source": [
    "### [DecisionTreeClassifier](https://scikit-learn.org/stable/modules/generated/sklearn.tree.DecisionTreeClassifier.html)\n",
    "- todo\n",
    "- time complexity [[source]](https://scikit-learn.org/stable/modules/tree.html#complexity)\n",
    "  - fit: O(N * log(N) * D)\n",
    "  - predict: O(log(N))\n",
    "- https://www.youtube.com/watch?v=P2ZB8c5Ha1Q"
   ]
  },
  {
   "cell_type": "markdown",
   "id": "3c2b0255-20da-415e-a961-0e432946b8bc",
   "metadata": {},
   "source": [
    "### [SVC](https://scikit-learn.org/stable/modules/generated/sklearn.svm.SVC.html)\n",
    "- todo"
   ]
  },
  {
   "cell_type": "markdown",
   "id": "06a20bb0-03b6-428a-b16b-86aaf3eaca64",
   "metadata": {},
   "source": [
    "### [LinearDiscriminantAnalysis](https://scikit-learn.org/stable/modules/generated/sklearn.discriminant_analysis.LinearDiscriminantAnalysis.html)"
   ]
  },
  {
   "cell_type": "markdown",
   "id": "2ec414b3-48d4-48bf-aea4-7e7c293ffa20",
   "metadata": {},
   "source": [
    "### [QuadraticDiscriminantAnalysis](https://scikit-learn.org/stable/modules/generated/sklearn.discriminant_analysis.QuadraticDiscriminantAnalysis.html)"
   ]
  },
  {
   "cell_type": "markdown",
   "id": "22f8a46b-de48-4647-955f-c317c13805d6",
   "metadata": {},
   "source": [
    "### [LogisticRegression](https://scikit-learn.org/stable/modules/generated/sklearn.linear_model.LogisticRegression.html)"
   ]
  },
  {
   "cell_type": "markdown",
   "id": "c0924683-b736-4e00-9945-ca88525a2e33",
   "metadata": {},
   "source": [
    "### [GaussianNB](https://scikit-learn.org/stable/modules/generated/sklearn.naive_bayes.GaussianNB.html)"
   ]
  },
  {
   "cell_type": "markdown",
   "id": "b64b07bd-554e-442e-b470-ce0191e3f2c3",
   "metadata": {},
   "source": [
    "### [KNeighborsClassifier](https://scikit-learn.org/stable/modules/generated/sklearn.neighbors.KNeighborsClassifier.html)\n",
    "- time Complexity\n",
    "  - predict: O(N * d) "
   ]
  },
  {
   "cell_type": "markdown",
   "id": "d731338b-a652-4fbf-bb04-93e511067251",
   "metadata": {},
   "source": [
    "# Regression"
   ]
  },
  {
   "cell_type": "markdown",
   "id": "a63e277b-e106-43a6-b743-a630fb41140a",
   "metadata": {},
   "source": [
    "### [SGDRegressor](https://scikit-learn.org/stable/modules/generated/sklearn.linear_model.SGDRegressor.html)\n",
    "\n",
    "- todo"
   ]
  },
  {
   "cell_type": "markdown",
   "id": "f831b22d-41f1-4a47-90e7-56118a5b10d9",
   "metadata": {},
   "source": [
    "### [DecisionTreeRegressor](https://scikit-learn.org/stable/modules/generated/sklearn.tree.DecisionTreeRegressor.html)\n",
    "- todo\n",
    "- https://www.youtube.com/watch?v=sgQAhG5Q7iY"
   ]
  },
  {
   "cell_type": "markdown",
   "id": "5cfd15bf-5d13-4ebe-965b-6ffc57fe4d00",
   "metadata": {},
   "source": [
    "### [SVR](https://scikit-learn.org/stable/modules/generated/sklearn.svm.SVR.html)\n",
    "- todo"
   ]
  },
  {
   "cell_type": "markdown",
   "id": "61f320e5-bba5-41b3-b65d-ccbdbaedbc85",
   "metadata": {},
   "source": [
    "### [KNeighborsRegressor](https://scikit-learn.org/stable/modules/generated/sklearn.neighbors.KNeighborsRegressor.html)"
   ]
  },
  {
   "cell_type": "markdown",
   "id": "a573c857-a6e8-4888-abfd-21dabfc34e60",
   "metadata": {},
   "source": [
    "### [LinearRegression](https://scikit-learn.org/stable/modules/generated/sklearn.linear_model.LinearRegression.html)\n",
    "- time complexity [source](https://stackoverflow.com/questions/1955088/what-is-the-bigo-of-linear-regression)\n",
    "  - fit: O(D^2 * (N + D)\n",
    "  - predict: O(n * D)"
   ]
  },
  {
   "cell_type": "markdown",
   "id": "34b40e8f-2cdb-493b-b124-bd5d0ae4ad8e",
   "metadata": {},
   "source": [
    "# Bagging"
   ]
  },
  {
   "cell_type": "markdown",
   "id": "a9254cdc-7840-47e0-9330-d9e45b1df5a8",
   "metadata": {},
   "source": [
    "# Boosting"
   ]
  },
  {
   "cell_type": "markdown",
   "id": "b89ea4dc-a780-4f5a-9ad1-2a0961bdc706",
   "metadata": {},
   "source": [
    "# Recommendation System"
   ]
  },
  {
   "cell_type": "markdown",
   "id": "c106487e-c5d2-4a28-a56c-af836cea69d3",
   "metadata": {},
   "source": [
    "### Content Based Filtering\n",
    "- example: user and movies\n",
    "- assume movie tags [action, comedy, romance, scifi]\n",
    "- user_i prefers [1, 0, 0, 1]\n",
    "- movie_j has tags [1, 1, 0, 0]\n",
    "- get cosine similarity between user_i and movies_j where 0 < j < N; rank by highest\n",
    "- update user_i preference by interaction user_i + alpha * movie_j where -1 < alpha < 1\n",
    "- works even when data is sparse, since user initialize their own vector at first\n",
    "- deep learning to learn embeddigns (?)\n",
    "\n",
    "### Collaborative Filtering\n",
    "- challenges: data is sparse, cold start (new user/item), scalability\n",
    "- how to do online or batch update?\n",
    "- https://www.youtube.com/watch?v=G4MBc40rQ2k\n",
    "- https://www.youtube.com/watch?v=v_mONWiFv0k\n",
    "- https://www.youtube.com/watch?v=IByC2keY3vo\n",
    "- https://github.com/SpencerPao/Data_Science/blob/main/Recommendation%20Systems/Recommendation_System.ipynb\n",
    "- user based vs item based\n",
    "- get user embedding -> get weighted avg of x nearest users for recc (?)\n",
    "- normalize: subtract global bias term for users/items b = global avg + item's avg rating + user's avg rating\n",
    "- optimization: convert UxI matrix to UxZ ZxI, where Z is latent dimension\n",
    "- solvers: svd, sgd, alternating least squares\n",
    "- eval: precision @ k\n",
    "- post process: sort top k, filter watched, item-item similarity\n",
    "- mask random data points to use a training set; then compare predicted w/ actual rating\n",
    "- U < I usually\n",
    "- EASE (https://arxiv.org/abs/1905.03375); SLIM (https://github.com/KarypisLab/SLIM)\n",
    "- https://www.youtube.com/watch?v=hul5eWj2KtY\n",
    "\n",
    "### Modern Recommendation System (Two Tower)\n",
    "- https://engineering.fb.com/2023/08/09/ml-applications/scaling-instagram-explore-recommendations-system/\n",
    "- contextual event data, item data, profile settings\n",
    "- contexual sequence data for each user"
   ]
  }
 ],
 "metadata": {
  "kernelspec": {
   "display_name": "Python 3 (ipykernel)",
   "language": "python",
   "name": "python3"
  },
  "language_info": {
   "codemirror_mode": {
    "name": "ipython",
    "version": 3
   },
   "file_extension": ".py",
   "mimetype": "text/x-python",
   "name": "python",
   "nbconvert_exporter": "python",
   "pygments_lexer": "ipython3",
   "version": "3.11.5"
  }
 },
 "nbformat": 4,
 "nbformat_minor": 5
}
