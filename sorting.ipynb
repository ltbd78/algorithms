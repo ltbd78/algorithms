{
 "cells": [
  {
   "cell_type": "markdown",
   "id": "efb4bab7-e032-4ead-8ed2-9be21fcf928f",
   "metadata": {},
   "source": [
    "# Sorting"
   ]
  },
  {
   "cell_type": "code",
   "execution_count": 1,
   "id": "b2d2985a-c2f1-4de6-8217-a364ce8fd7dd",
   "metadata": {},
   "outputs": [],
   "source": [
    "import numpy as np\n",
    "import copy\n",
    "import time"
   ]
  },
  {
   "cell_type": "code",
   "execution_count": 2,
   "id": "c7b9b15c-c3ad-49dc-87f7-bbd7a7719dc2",
   "metadata": {},
   "outputs": [
    {
     "name": "stdout",
     "output_type": "stream",
     "text": [
      "hello world\n",
      "hello world\n",
      "hello world\n",
      "hello world\n"
     ]
    }
   ],
   "source": [
    "# decorator review\n",
    "def run_n_times(n):\n",
    "    def decorator(func):\n",
    "        def wrapper(*args, **kwargs): # wrapper should have same args as func; if unknown use *args, **kwargs\n",
    "            for _ in range(n):\n",
    "                func(*args, **kwargs)\n",
    "            return\n",
    "        return wrapper\n",
    "    return decorator\n",
    "\n",
    "@run_n_times(4)\n",
    "def print_once(string):\n",
    "    print(string)\n",
    "# equivalent to\n",
    "# print_once = run_n_times(4)(print_once)\n",
    "\n",
    "print_once(\"hello world\")"
   ]
  },
  {
   "cell_type": "code",
   "execution_count": 3,
   "id": "6c7742a5-6bf2-4b68-a4d0-7dec97a9cdc4",
   "metadata": {},
   "outputs": [],
   "source": [
    "def timeit(n=100, low=0, high=1000, size=1000):\n",
    "    def decorator(func):\n",
    "        def wrapper(*args, **kwargs):\n",
    "            total_time = 0\n",
    "            for _ in range(n):\n",
    "                rng = np.random.default_rng()\n",
    "                unsorted = rng.integers(low, high=high, size=size)\n",
    "                start_time = time.perf_counter()\n",
    "                result = func(unsorted, *args, **kwargs)\n",
    "                end_time = time.perf_counter()\n",
    "                total_time += (end_time - start_time)\n",
    "            avg_time = total_time / n\n",
    "            return avg_time\n",
    "        return wrapper\n",
    "    return decorator"
   ]
  },
  {
   "cell_type": "markdown",
   "id": "3a647fd6-a96c-4af2-8b3f-b57589858e6a",
   "metadata": {},
   "source": [
    "### Python's Tim Sort"
   ]
  },
  {
   "cell_type": "code",
   "execution_count": 4,
   "id": "6e38a3b5-4f59-4180-8efe-092946809823",
   "metadata": {},
   "outputs": [
    {
     "name": "stdout",
     "output_type": "stream",
     "text": [
      "0.0001592040027026087\n"
     ]
    }
   ],
   "source": [
    "print(timeit()(sorted)())"
   ]
  },
  {
   "cell_type": "markdown",
   "id": "55a3241e-20a1-43a1-806b-8b1b091e1a3a",
   "metadata": {},
   "source": [
    "### Selection Sort\n",
    "\n",
    "select smallest to beginning"
   ]
  },
  {
   "cell_type": "code",
   "execution_count": 5,
   "id": "839153ea-1723-462e-a018-bde9ea472579",
   "metadata": {},
   "outputs": [],
   "source": [
    "@timeit()\n",
    "def selection_sort(array):\n",
    "    for i in range(len(array)):\n",
    "        min_idx = i\n",
    "        for j in range(i, len(array)):\n",
    "            if array[j] < array[min_idx]:\n",
    "                min_idx = j\n",
    "        array[min_idx], array[i] = array[i], array[min_idx]\n",
    "    return array"
   ]
  },
  {
   "cell_type": "code",
   "execution_count": 6,
   "id": "89965653-736f-4c57-8521-dce19ca65c95",
   "metadata": {},
   "outputs": [
    {
     "name": "stdout",
     "output_type": "stream",
     "text": [
      "0.08364911799319089\n"
     ]
    }
   ],
   "source": [
    "print(selection_sort())"
   ]
  },
  {
   "cell_type": "markdown",
   "id": "7db396bf-79ed-4df7-902c-b0aa94d16746",
   "metadata": {
    "tags": []
   },
   "source": [
    "### Bubble Sort\n",
    "\n",
    "bubble largest to end"
   ]
  },
  {
   "cell_type": "code",
   "execution_count": 7,
   "id": "26b0ecd7-3f5e-4e34-9bac-4ffa0c331ff7",
   "metadata": {},
   "outputs": [],
   "source": [
    "@timeit()\n",
    "def bubble_sort(array):\n",
    "    sorted_ = False\n",
    "    while not sorted_:\n",
    "        sorted_ = True\n",
    "        for i in range(len(array) - 1):\n",
    "            if array[i] > array[i + 1]:\n",
    "                array[i], array[i + 1] = array[i + 1], array[i]\n",
    "                sorted_ = False\n",
    "    return array"
   ]
  },
  {
   "cell_type": "code",
   "execution_count": 8,
   "id": "7a1c4d27-290a-4428-b033-9dc929dc0ed2",
   "metadata": {},
   "outputs": [
    {
     "name": "stdout",
     "output_type": "stream",
     "text": [
      "0.2392029099992942\n"
     ]
    }
   ],
   "source": [
    "print(bubble_sort())"
   ]
  },
  {
   "cell_type": "markdown",
   "id": "188afb63-f3e4-453a-ac55-71332f204e17",
   "metadata": {},
   "source": [
    "### Insertion sort\n",
    "\n",
    "insert current to sorted subarray"
   ]
  },
  {
   "cell_type": "code",
   "execution_count": 9,
   "id": "f7002041-e216-44d4-a456-e5923af3f80d",
   "metadata": {},
   "outputs": [],
   "source": [
    "@timeit()\n",
    "def insertion_sort(array):\n",
    "    for i in range(len(array) - 1):\n",
    "        j = i\n",
    "        while j >= 0 and array[j] > array[j + 1]:\n",
    "            array[j], array[j + 1] = array[j + 1], array[j]\n",
    "            j -= 1\n",
    "    return array"
   ]
  },
  {
   "cell_type": "code",
   "execution_count": 10,
   "id": "c024d67e-90e6-44a4-8bf3-7f3de2d59183",
   "metadata": {
    "tags": []
   },
   "outputs": [
    {
     "name": "stdout",
     "output_type": "stream",
     "text": [
      "0.10802464599255472\n"
     ]
    }
   ],
   "source": [
    "print(insertion_sort())"
   ]
  },
  {
   "cell_type": "markdown",
   "id": "27aef798-fbe4-407c-b55e-01794453367f",
   "metadata": {},
   "source": [
    "# Quicksort"
   ]
  },
  {
   "cell_type": "code",
   "execution_count": 11,
   "id": "4f1911c1-c34e-4c52-b480-27a27bf98c04",
   "metadata": {},
   "outputs": [],
   "source": [
    "def quicksort(arr):\n",
    "    if len(arr) <= 1:\n",
    "        return arr\n",
    "    else:\n",
    "        pivot = arr[0]\n",
    "        less_than_pivot = [x for x in arr[1:] if x <= pivot]\n",
    "        greater_than_pivot = [x for x in arr[1:] if x > pivot]\n",
    "        return quicksort(less_than_pivot) + [pivot] + quicksort(greater_than_pivot)"
   ]
  },
  {
   "cell_type": "code",
   "execution_count": 12,
   "id": "b09eadfd-cae2-4ca5-8b2d-c38289fce9b7",
   "metadata": {},
   "outputs": [
    {
     "name": "stdout",
     "output_type": "stream",
     "text": [
      "0.0014067830063868314\n"
     ]
    }
   ],
   "source": [
    "n=100\n",
    "low=0\n",
    "high=1000\n",
    "size=1000\n",
    "total_time = 0\n",
    "for _ in range(n):\n",
    "    rng = np.random.default_rng()\n",
    "    unsorted = rng.integers(low, high=high, size=size)\n",
    "    start_time = time.perf_counter()\n",
    "    result = quicksort(unsorted)\n",
    "    end_time = time.perf_counter()\n",
    "    total_time += (end_time - start_time)\n",
    "avg_time = total_time / n\n",
    "print(avg_time)"
   ]
  },
  {
   "cell_type": "markdown",
   "id": "3bc74552-ca7a-495c-b343-254cfa6b1610",
   "metadata": {},
   "source": [
    "# Merge Sort"
   ]
  },
  {
   "cell_type": "code",
   "execution_count": 13,
   "id": "6639563f-49e9-4ea8-9f58-3f3ec6708278",
   "metadata": {},
   "outputs": [],
   "source": [
    "def merge_sort(arr):\n",
    "    if len(arr) <= 1:\n",
    "        return arr\n",
    "    \n",
    "    # Split the array into two halves\n",
    "    mid = len(arr) // 2\n",
    "    left_half = arr[:mid]\n",
    "    right_half = arr[mid:]\n",
    "    \n",
    "    # Recursive calls to sort each half\n",
    "    left_half = merge_sort(left_half)\n",
    "    right_half = merge_sort(right_half)\n",
    "    \n",
    "    # Merge the sorted halves\n",
    "    return merge(left_half, right_half)\n",
    "\n",
    "def merge(left, right):\n",
    "    merged = []\n",
    "    left_index, right_index = 0, 0\n",
    "    \n",
    "    # Compare elements from both lists and merge them into a new list in sorted order\n",
    "    while left_index < len(left) and right_index < len(right):\n",
    "        if left[left_index] < right[right_index]:\n",
    "            merged.append(left[left_index])\n",
    "            left_index += 1\n",
    "        else:\n",
    "            merged.append(right[right_index])\n",
    "            right_index += 1\n",
    "    \n",
    "    # Add any remaining elements from the left and right lists\n",
    "    merged.extend(left[left_index:])\n",
    "    merged.extend(right[right_index:])\n",
    "    \n",
    "    return merged"
   ]
  },
  {
   "cell_type": "code",
   "execution_count": 14,
   "id": "b2d42b37-cefb-4764-8956-143365063f9c",
   "metadata": {},
   "outputs": [
    {
     "name": "stdout",
     "output_type": "stream",
     "text": [
      "0.0024079810036346317\n"
     ]
    }
   ],
   "source": [
    "n=100\n",
    "low=0\n",
    "high=1000\n",
    "size=1000\n",
    "total_time = 0\n",
    "for _ in range(n):\n",
    "    rng = np.random.default_rng()\n",
    "    unsorted = rng.integers(low, high=high, size=size)\n",
    "    start_time = time.perf_counter()\n",
    "    result = merge_sort(unsorted)\n",
    "    end_time = time.perf_counter()\n",
    "    total_time += (end_time - start_time)\n",
    "avg_time = total_time / n\n",
    "print(avg_time)"
   ]
  },
  {
   "cell_type": "markdown",
   "id": "7f8d823c-e876-4830-be08-f6f6a4c82449",
   "metadata": {},
   "source": [
    "### TODO: fix decorator calls for recursive functions"
   ]
  }
 ],
 "metadata": {
  "environment": {
   "kernel": "python3",
   "name": ".m113",
   "type": "gcloud",
   "uri": "gcr.io/deeplearning-platform-release/:m113"
  },
  "kernelspec": {
   "display_name": "Python 3 (ipykernel)",
   "language": "python",
   "name": "python3"
  },
  "language_info": {
   "codemirror_mode": {
    "name": "ipython",
    "version": 3
   },
   "file_extension": ".py",
   "mimetype": "text/x-python",
   "name": "python",
   "nbconvert_exporter": "python",
   "pygments_lexer": "ipython3",
   "version": "3.11.5"
  }
 },
 "nbformat": 4,
 "nbformat_minor": 5
}
