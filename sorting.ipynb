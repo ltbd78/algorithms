{
 "cells": [
  {
   "cell_type": "markdown",
   "id": "efb4bab7-e032-4ead-8ed2-9be21fcf928f",
   "metadata": {},
   "source": [
    "# Sorting"
   ]
  },
  {
   "cell_type": "code",
   "execution_count": 1,
   "id": "b2d2985a-c2f1-4de6-8217-a364ce8fd7dd",
   "metadata": {},
   "outputs": [],
   "source": [
    "import numpy as np\n",
    "import copy\n",
    "import time"
   ]
  },
  {
   "cell_type": "code",
   "execution_count": 2,
   "id": "6c7742a5-6bf2-4b68-a4d0-7dec97a9cdc4",
   "metadata": {},
   "outputs": [],
   "source": [
    "def timeit(n=100, low=0, high=1000, size=1000):\n",
    "    def wrapper(func):\n",
    "        def wrapped(*args, **kwargs):\n",
    "            total_time = 0\n",
    "            for _ in range(n):\n",
    "                rng = np.random.default_rng()\n",
    "                unsorted = rng.integers(low, high=high, size=size)\n",
    "                start_time = time.perf_counter()\n",
    "                result = func(unsorted, *args, **kwargs)\n",
    "                end_time = time.perf_counter()\n",
    "                total_time += (end_time - start_time)\n",
    "            avg_time = total_time / n\n",
    "            return avg_time\n",
    "        return wrapped\n",
    "    return wrapper"
   ]
  },
  {
   "cell_type": "markdown",
   "id": "55a3241e-20a1-43a1-806b-8b1b091e1a3a",
   "metadata": {},
   "source": [
    "### Selection Sort\n",
    "\n",
    "select smallest to beginning"
   ]
  },
  {
   "cell_type": "code",
   "execution_count": 3,
   "id": "839153ea-1723-462e-a018-bde9ea472579",
   "metadata": {},
   "outputs": [],
   "source": [
    "@timeit()\n",
    "def selection_sort(array):\n",
    "    def swap(a, b):\n",
    "        temp = array[b]\n",
    "        array[b] = array[a]\n",
    "        array[a] = temp\n",
    "        # array[a], array[b] = array[b], array[a] # uses tuple unpacking also work\n",
    "    L = len(array)\n",
    "    for i in range(0, L):\n",
    "        min_idx, min_ = i, array[i] # storing min_ reduces number of O(1) access, makes it slightly faster.\n",
    "        for j in range(i, L):\n",
    "            if array[j] < min_:\n",
    "                min_idx, min_ = j, array[j]\n",
    "        swap(min_idx, i)\n",
    "    return array"
   ]
  },
  {
   "cell_type": "code",
   "execution_count": 4,
   "id": "89965653-736f-4c57-8521-dce19ca65c95",
   "metadata": {},
   "outputs": [
    {
     "name": "stdout",
     "output_type": "stream",
     "text": [
      "0.042771800000082294\n"
     ]
    }
   ],
   "source": [
    "print(selection_sort())"
   ]
  },
  {
   "cell_type": "markdown",
   "id": "7db396bf-79ed-4df7-902c-b0aa94d16746",
   "metadata": {
    "tags": []
   },
   "source": [
    "### Bubble Sort\n",
    "\n",
    "bubble largest to end"
   ]
  },
  {
   "cell_type": "code",
   "execution_count": 5,
   "id": "26b0ecd7-3f5e-4e34-9bac-4ffa0c331ff7",
   "metadata": {},
   "outputs": [],
   "source": [
    "@timeit()\n",
    "def bubble_sort(array):\n",
    "    L = len(array)\n",
    "    sorted_ = False\n",
    "    while not sorted_:\n",
    "        sorted_ = True\n",
    "        for i in range(0, L - 1):\n",
    "            if array[i] > array[i + 1]:\n",
    "                array[i], array[i + 1] = array[i + 1], array[i] # swap\n",
    "                sorted_ = False\n",
    "    return array"
   ]
  },
  {
   "cell_type": "code",
   "execution_count": 6,
   "id": "7a1c4d27-290a-4428-b033-9dc929dc0ed2",
   "metadata": {},
   "outputs": [
    {
     "name": "stdout",
     "output_type": "stream",
     "text": [
      "0.1992736259999401\n"
     ]
    }
   ],
   "source": [
    "print(bubble_sort())"
   ]
  },
  {
   "cell_type": "markdown",
   "id": "188afb63-f3e4-453a-ac55-71332f204e17",
   "metadata": {},
   "source": [
    "### Insertion sort\n",
    "\n",
    "insert current to sorted subarray"
   ]
  },
  {
   "cell_type": "code",
   "execution_count": 7,
   "id": "f7002041-e216-44d4-a456-e5923af3f80d",
   "metadata": {},
   "outputs": [],
   "source": [
    "@timeit()\n",
    "def insertion_sort(array):\n",
    "    L = len(array)\n",
    "    for i in range(0, L - 1):\n",
    "        j = i\n",
    "        while j >=0 and array[j] > array[j + 1]:\n",
    "            array[j], array[j + 1] = array[j + 1], array[j] # swap\n",
    "            j -= 1\n",
    "    return array      "
   ]
  },
  {
   "cell_type": "code",
   "execution_count": 8,
   "id": "c024d67e-90e6-44a4-8bf3-7f3de2d59183",
   "metadata": {},
   "outputs": [
    {
     "name": "stdout",
     "output_type": "stream",
     "text": [
      "0.10262715999997454\n"
     ]
    }
   ],
   "source": [
    "print(insertion_sort())"
   ]
  }
 ],
 "metadata": {
  "kernelspec": {
   "display_name": "Python 3 (ipykernel)",
   "language": "python",
   "name": "python3"
  },
  "language_info": {
   "codemirror_mode": {
    "name": "ipython",
    "version": 3
   },
   "file_extension": ".py",
   "mimetype": "text/x-python",
   "name": "python",
   "nbconvert_exporter": "python",
   "pygments_lexer": "ipython3",
   "version": "3.10.8"
  }
 },
 "nbformat": 4,
 "nbformat_minor": 5
}
