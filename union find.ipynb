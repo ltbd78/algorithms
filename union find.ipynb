{
 "cells": [
  {
   "cell_type": "code",
   "execution_count": 1,
   "id": "0718b4a3-d3cf-4a15-b4e8-40b8eda299ac",
   "metadata": {},
   "outputs": [],
   "source": [
    "class UnionFind:\n",
    "    def __init__(self, n):\n",
    "        self.parent = list(range(n))\n",
    "        self.size = [1] * n\n",
    "\n",
    "    def find(self, i):\n",
    "        if self.parent[i] != i:\n",
    "            self.parent[i] = self.find(self.parent[i])  # Path compression\n",
    "        return self.parent[i]\n",
    "\n",
    "    def union(self, i, j):\n",
    "        root_i = self.find(i)\n",
    "        root_j = self.find(j)\n",
    "        if root_i == root_j:\n",
    "            return False\n",
    "        if self.size[root_i] < self.size[root_j]:\n",
    "            self.parent[root_i] = root_j\n",
    "            self.size[root_j] += self.size[root_i]\n",
    "        else:\n",
    "            self.parent[root_j] = root_i\n",
    "            self.size[root_i] += self.size[root_j]\n",
    "        return True"
   ]
  },
  {
   "cell_type": "code",
   "execution_count": 2,
   "id": "6506328c-5396-48dd-a54d-fd62b5ecece6",
   "metadata": {},
   "outputs": [
    {
     "name": "stdout",
     "output_type": "stream",
     "text": [
      "0\n",
      "0\n",
      "4\n",
      "6\n",
      "8\n"
     ]
    }
   ],
   "source": [
    "# Example usage:\n",
    "n = 10  # Number of elements\n",
    "uf = UnionFind(n)\n",
    "\n",
    "uf.union(0, 1)\n",
    "uf.union(2, 3)\n",
    "uf.union(4, 5)\n",
    "uf.union(6, 7)\n",
    "uf.union(1, 3)\n",
    "\n",
    "print(uf.find(0))  # Output: 1 (since 0 and 1 are connected)\n",
    "print(uf.find(2))  # Output: 3 (since 2 and 3 are connected)\n",
    "print(uf.find(4))  # Output: 5 (since 4 and 5 are connected)\n",
    "print(uf.find(6))  # Output: 7 (since 6 and 7 are connected)\n",
    "print(uf.find(8))  # Output: 8 (since 8 is not connected to any other element)"
   ]
  }
 ],
 "metadata": {
  "kernelspec": {
   "display_name": "Python 3 (ipykernel)",
   "language": "python",
   "name": "python3"
  },
  "language_info": {
   "codemirror_mode": {
    "name": "ipython",
    "version": 3
   },
   "file_extension": ".py",
   "mimetype": "text/x-python",
   "name": "python",
   "nbconvert_exporter": "python",
   "pygments_lexer": "ipython3",
   "version": "3.11.5"
  }
 },
 "nbformat": 4,
 "nbformat_minor": 5
}
